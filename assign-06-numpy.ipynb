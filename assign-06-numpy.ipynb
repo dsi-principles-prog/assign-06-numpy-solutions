{
 "cells": [
  {
   "cell_type": "markdown",
   "metadata": {},
   "source": [
    "# Assignment 6\n",
    "\n",
    "### Complete all questions below in the fields provided. For this assignment, we will use `numpy`, imported here."
   ]
  },
  {
   "cell_type": "code",
   "execution_count": 1,
   "metadata": {},
   "outputs": [],
   "source": [
    "import numpy as np"
   ]
  },
  {
   "cell_type": "markdown",
   "metadata": {},
   "source": [
    "## Section 1 -- Basic array operations"
   ]
  },
  {
   "cell_type": "markdown",
   "metadata": {},
   "source": [
    "#### 1. Using the appropriate functions for lists, make a list `L` of all integers from 0 - 19 (inclusive). "
   ]
  },
  {
   "cell_type": "code",
   "execution_count": 2,
   "metadata": {},
   "outputs": [],
   "source": [
    "L = list(range(20))"
   ]
  },
  {
   "cell_type": "markdown",
   "metadata": {},
   "source": [
    "#### 2. Use a numpy function to convert `L` into a numpy array."
   ]
  },
  {
   "cell_type": "code",
   "execution_count": 3,
   "metadata": {},
   "outputs": [],
   "source": [
    "L = np.array(L)"
   ]
  },
  {
   "cell_type": "markdown",
   "metadata": {},
   "source": [
    "#### 3. Redo \\#1 and \\#2 in one step: Using the appropriate numpy function, make a numpy array `L` of all integers from 0 - 19 (inclusive)."
   ]
  },
  {
   "cell_type": "code",
   "execution_count": 4,
   "metadata": {},
   "outputs": [],
   "source": [
    "L = np.arange(20)"
   ]
  },
  {
   "cell_type": "markdown",
   "metadata": {},
   "source": [
    "#### 4. Using \"fancy indexing\", replace all of the numbers in `L` that are divisible by 3 with -1."
   ]
  },
  {
   "cell_type": "code",
   "execution_count": 5,
   "metadata": {},
   "outputs": [
    {
     "data": {
      "text/plain": [
       "array([-1,  1,  2, -1,  4,  5, -1,  7,  8, -1, 10, 11, -1, 13, 14, -1, 16,\n",
       "       17, -1, 19])"
      ]
     },
     "execution_count": 5,
     "metadata": {},
     "output_type": "execute_result"
    }
   ],
   "source": [
    "# I actually intended for this to use a boolean mask, but I got confused on terminology.\n",
    "# The boolean mask solution would be L[L%3==0] = -1. I suppose this solution is fine since even I did it wrong, \n",
    "# but maybe leave a comment.\n",
    "\n",
    "# The fancy indexing solution would be this:\n",
    "L[np.argwhere(L%3==0)]=-1\n",
    "L"
   ]
  },
  {
   "cell_type": "markdown",
   "metadata": {},
   "source": [
    "#### 5. Using numpy functions, compute the mean and standard deviation of `L`."
   ]
  },
  {
   "cell_type": "code",
   "execution_count": 6,
   "metadata": {},
   "outputs": [
    {
     "data": {
      "text/plain": [
       "6.848357467305573"
      ]
     },
     "execution_count": 6,
     "metadata": {},
     "output_type": "execute_result"
    }
   ],
   "source": [
    "np.mean(L)\n",
    "np.std(L)"
   ]
  },
  {
   "cell_type": "markdown",
   "metadata": {},
   "source": [
    "#### 6. Using a numpy function, change `L` into a 5 by 4 matrix (5 row, 4 columns)."
   ]
  },
  {
   "cell_type": "code",
   "execution_count": 7,
   "metadata": {},
   "outputs": [],
   "source": [
    "L = L.reshape((5,4))"
   ]
  },
  {
   "cell_type": "markdown",
   "metadata": {},
   "source": [
    "#### 7. Using a numpy function (not a loop), compute the sum of all of the elements in `L`."
   ]
  },
  {
   "cell_type": "code",
   "execution_count": 8,
   "metadata": {},
   "outputs": [
    {
     "data": {
      "text/plain": [
       "120"
      ]
     },
     "execution_count": 8,
     "metadata": {},
     "output_type": "execute_result"
    }
   ],
   "source": [
    "np.sum(L)"
   ]
  },
  {
   "cell_type": "markdown",
   "metadata": {},
   "source": [
    "#### 8. Using a numpy function (not a loop) compute the mean of the elements in each column of `L`. Also compute the standard deviation of the elements in each row."
   ]
  },
  {
   "cell_type": "code",
   "execution_count": 9,
   "metadata": {},
   "outputs": [
    {
     "data": {
      "text/plain": [
       "array([1.29903811, 2.94745653, 4.74341649, 7.25861557, 8.01171018])"
      ]
     },
     "execution_count": 9,
     "metadata": {},
     "output_type": "execute_result"
    }
   ],
   "source": [
    "np.mean(L, axis=0)\n",
    "np.std(L, axis=1)"
   ]
  },
  {
   "cell_type": "markdown",
   "metadata": {},
   "source": [
    "#### 9. Let's use numpy's random number generator. Seed it below with the number \"2\". (Note -- for the sake of reproducability, it's always a good idea to seed a random number generator."
   ]
  },
  {
   "cell_type": "code",
   "execution_count": 10,
   "metadata": {},
   "outputs": [],
   "source": [
    "np.random.seed(2)"
   ]
  },
  {
   "cell_type": "markdown",
   "metadata": {},
   "source": [
    "#### 10. Using a numpy function, create two arrays each of 10 random integers between 1 and 3 (inclusive). Name these arrays `M` and `N`."
   ]
  },
  {
   "cell_type": "code",
   "execution_count": 11,
   "metadata": {},
   "outputs": [
    {
     "name": "stdout",
     "output_type": "stream",
     "text": [
      "[1 2 1 3 3 1 3 2 2 3] [1 1 1 2 3 1 3 3 3 2]\n"
     ]
    }
   ],
   "source": [
    "M = np.random.randint(1,4,10)\n",
    "N = np.random.randint(1,4,10)\n",
    "print(M,N)"
   ]
  },
  {
   "cell_type": "markdown",
   "metadata": {},
   "source": [
    "#### 11. Without using any loops, perform element-wise addition, subtraction, multiplication, and division of these two arrays. You do not need to store the results. (e.g. `[1, 2, 3]` + `[1, 2, 3]` = `[2, 4, 6]`)"
   ]
  },
  {
   "cell_type": "code",
   "execution_count": 12,
   "metadata": {},
   "outputs": [
    {
     "data": {
      "text/plain": [
       "array([1.        , 2.        , 1.        , 1.5       , 1.        ,\n",
       "       1.        , 1.        , 0.66666667, 0.66666667, 1.5       ])"
      ]
     },
     "execution_count": 12,
     "metadata": {},
     "output_type": "execute_result"
    }
   ],
   "source": [
    "M+N\n",
    "M-N\n",
    "M*N\n",
    "M/N"
   ]
  },
  {
   "cell_type": "markdown",
   "metadata": {},
   "source": [
    "#### 12. Without using a loop, get all of the common elements between `M` and `N`. (\"common\" means they have the same value and position)"
   ]
  },
  {
   "cell_type": "code",
   "execution_count": 13,
   "metadata": {},
   "outputs": [
    {
     "data": {
      "text/plain": [
       "array([1, 1, 3, 1, 3])"
      ]
     },
     "execution_count": 13,
     "metadata": {},
     "output_type": "execute_result"
    }
   ],
   "source": [
    "M[M==N]"
   ]
  },
  {
   "cell_type": "markdown",
   "metadata": {},
   "source": [
    "#### 13. Using a numpy function, get the positions where elements of `M` and `N` match."
   ]
  },
  {
   "cell_type": "code",
   "execution_count": 14,
   "metadata": {},
   "outputs": [
    {
     "data": {
      "text/plain": [
       "(array([0, 2, 4, 5, 6]),)"
      ]
     },
     "execution_count": 14,
     "metadata": {},
     "output_type": "execute_result"
    }
   ],
   "source": [
    "# two options; argwhere is better in my opinion\n",
    "np.argwhere(M==N)\n",
    "np.where(M==N)"
   ]
  },
  {
   "cell_type": "markdown",
   "metadata": {},
   "source": [
    "#### 14. Use the appropriate numpy functions to combine `M` and `N` into a 2 by 10 matrix and a 10 by 2 matrix. (Note -- the 10 by 2 matrix is more complicated. You will need to first turn `M` and `N` into column vectors.)"
   ]
  },
  {
   "cell_type": "code",
   "execution_count": 15,
   "metadata": {},
   "outputs": [
    {
     "data": {
      "text/plain": [
       "array([[1, 1],\n",
       "       [2, 1],\n",
       "       [1, 1],\n",
       "       [3, 2],\n",
       "       [3, 3],\n",
       "       [1, 1],\n",
       "       [3, 3],\n",
       "       [2, 3],\n",
       "       [2, 3],\n",
       "       [3, 2]])"
      ]
     },
     "execution_count": 15,
     "metadata": {},
     "output_type": "execute_result"
    }
   ],
   "source": [
    "np.vstack((M, N))\n",
    "\n",
    "np.hstack((M[:,np.newaxis], N[:,np.newaxis]))"
   ]
  },
  {
   "cell_type": "markdown",
   "metadata": {},
   "source": [
    "## Section 2 -- \"Dataframe\" operations with `numpy`\n",
    "\n",
    "### In this section, you will practice using `numpy` on the mtcars dataset that we've used previously in `R`. Here is a brief overview of this dataset, compliments of `R`:\n",
    "\n",
    "A data frame with 32 observations on 11 (numeric) variables.\n",
    "\n",
    "[:, 0]\tmpg\tMiles/(US) gallon\n",
    "\n",
    "[:, 1]\tcyl\tNumber of cylinders\n",
    "\n",
    "[:, 2]\tdisp\tDisplacement (cu.in.)\n",
    "\n",
    "[:, 3]\thp\tGross horsepower\n",
    "\n",
    "[:, 4]\tdrat\tRear axle ratio\n",
    "\n",
    "[:, 5]\twt\tWeight (1000 lbs)\n",
    "\n",
    "[:, 6]\tqsec\t1/4 mile time\n",
    "\n",
    "[:, 7]\tvs\tEngine (0 = V-shaped, 1 = straight)\n",
    "\n",
    "[:, 8]\tam\tTransmission (0 = automatic, 1 = manual)\n",
    "\n",
    "[:, 9]\tgear\tNumber of forward gears\n",
    "\n",
    "[:, 10]\tcarb\tNumber of carburetors\n",
    "\n",
    "\n",
    "#### We will mostly be dealing with only the first two columns. In the future, we will read in dataframes using `pandas`, which offers tools similar to what we've seen in `R`. For now though, I'm providing the lines for reading in using a `numpy` function not covered in the course material:"
   ]
  },
  {
   "cell_type": "code",
   "execution_count": 16,
   "metadata": {},
   "outputs": [],
   "source": [
    "fname = \"mtcars.csv\"\n",
    "mtcars = np.genfromtxt(fname, delimiter=',',skip_header=1)"
   ]
  },
  {
   "cell_type": "markdown",
   "metadata": {},
   "source": [
    "#### 1. Examine this data set. What data type is each column (int, float, etc.)? Based on the description, what data type would you expect/hope for each column to be?"
   ]
  },
  {
   "cell_type": "markdown",
   "metadata": {},
   "source": [
    "My wording is ambiguous, so maybe don't grade this one. They're loaded as floats. They're all actually mixes of floats, ints. You'd want that type to be preserved, but numpy doesn't do this easily."
   ]
  },
  {
   "cell_type": "markdown",
   "metadata": {},
   "source": [
    "#### 2. Use a numpy function to determine how many unique values there are in the ```cyl``` column."
   ]
  },
  {
   "cell_type": "code",
   "execution_count": 17,
   "metadata": {},
   "outputs": [
    {
     "data": {
      "text/plain": [
       "3"
      ]
     },
     "execution_count": 17,
     "metadata": {},
     "output_type": "execute_result"
    }
   ],
   "source": [
    "len(np.unique(mtcars[:,1]))"
   ]
  },
  {
   "cell_type": "markdown",
   "metadata": {},
   "source": [
    "#### 3. Extract all the rows with 6 cylinders. \n",
    "\n",
    "Note: Because these arrays are floating point-type, strictly speaking, using `==` can produce unexpected results. Using `numpy.isclose()` is the safer option. However, in this problem set, you can use `==`."
   ]
  },
  {
   "cell_type": "code",
   "execution_count": 18,
   "metadata": {},
   "outputs": [
    {
     "data": {
      "text/plain": [
       "array([[[ 21.   ,   6.   , 160.   , 110.   ,   3.9  ,   2.62 ,  16.46 ,\n",
       "           0.   ,   1.   ,   4.   ,   4.   ]],\n",
       "\n",
       "       [[ 21.   ,   6.   , 160.   , 110.   ,   3.9  ,   2.875,  17.02 ,\n",
       "           0.   ,   1.   ,   4.   ,   4.   ]],\n",
       "\n",
       "       [[ 21.4  ,   6.   , 258.   , 110.   ,   3.08 ,   3.215,  19.44 ,\n",
       "           1.   ,   0.   ,   3.   ,   1.   ]],\n",
       "\n",
       "       [[ 18.1  ,   6.   , 225.   , 105.   ,   2.76 ,   3.46 ,  20.22 ,\n",
       "           1.   ,   0.   ,   3.   ,   1.   ]],\n",
       "\n",
       "       [[ 19.2  ,   6.   , 167.6  , 123.   ,   3.92 ,   3.44 ,  18.3  ,\n",
       "           1.   ,   0.   ,   4.   ,   4.   ]],\n",
       "\n",
       "       [[ 17.8  ,   6.   , 167.6  , 123.   ,   3.92 ,   3.44 ,  18.9  ,\n",
       "           1.   ,   0.   ,   4.   ,   4.   ]],\n",
       "\n",
       "       [[ 19.7  ,   6.   , 145.   , 175.   ,   3.62 ,   2.77 ,  15.5  ,\n",
       "           0.   ,   1.   ,   5.   ,   6.   ]]])"
      ]
     },
     "execution_count": 18,
     "metadata": {},
     "output_type": "execute_result"
    }
   ],
   "source": [
    "mtcars[np.argwhere(mtcars[:,1]==6),:]"
   ]
  },
  {
   "cell_type": "markdown",
   "metadata": {},
   "source": [
    "#### 4. Sort the rows of `mtcars` based on the `mpg` column. How many cylinders does the car with the lowest mpg have? What about the highest?\n",
    "\n",
    "Note: Be careful not to only sort the values in one column. Rows need to be preserved because each row contains values for a specific automobile."
   ]
  },
  {
   "cell_type": "code",
   "execution_count": 19,
   "metadata": {},
   "outputs": [
    {
     "data": {
      "text/plain": [
       "array([[ 10.4  ,   8.   , 460.   , 215.   ,   3.   ,   5.424,  17.82 ,\n",
       "          0.   ,   0.   ,   3.   ,   4.   ],\n",
       "       [ 10.4  ,   8.   , 472.   , 205.   ,   2.93 ,   5.25 ,  17.98 ,\n",
       "          0.   ,   0.   ,   3.   ,   4.   ],\n",
       "       [ 13.3  ,   8.   , 350.   , 245.   ,   3.73 ,   3.84 ,  15.41 ,\n",
       "          0.   ,   0.   ,   3.   ,   4.   ],\n",
       "       [ 14.3  ,   8.   , 360.   , 245.   ,   3.21 ,   3.57 ,  15.84 ,\n",
       "          0.   ,   0.   ,   3.   ,   4.   ],\n",
       "       [ 14.7  ,   8.   , 440.   , 230.   ,   3.23 ,   5.345,  17.42 ,\n",
       "          0.   ,   0.   ,   3.   ,   4.   ],\n",
       "       [ 15.   ,   8.   , 301.   , 335.   ,   3.54 ,   3.57 ,  14.6  ,\n",
       "          0.   ,   1.   ,   5.   ,   8.   ],\n",
       "       [ 15.2  ,   8.   , 275.8  , 180.   ,   3.07 ,   3.78 ,  18.   ,\n",
       "          0.   ,   0.   ,   3.   ,   3.   ],\n",
       "       [ 15.2  ,   8.   , 304.   , 150.   ,   3.15 ,   3.435,  17.3  ,\n",
       "          0.   ,   0.   ,   3.   ,   2.   ],\n",
       "       [ 15.5  ,   8.   , 318.   , 150.   ,   2.76 ,   3.52 ,  16.87 ,\n",
       "          0.   ,   0.   ,   3.   ,   2.   ],\n",
       "       [ 15.8  ,   8.   , 351.   , 264.   ,   4.22 ,   3.17 ,  14.5  ,\n",
       "          0.   ,   1.   ,   5.   ,   4.   ],\n",
       "       [ 16.4  ,   8.   , 275.8  , 180.   ,   3.07 ,   4.07 ,  17.4  ,\n",
       "          0.   ,   0.   ,   3.   ,   3.   ],\n",
       "       [ 17.3  ,   8.   , 275.8  , 180.   ,   3.07 ,   3.73 ,  17.6  ,\n",
       "          0.   ,   0.   ,   3.   ,   3.   ],\n",
       "       [ 17.8  ,   6.   , 167.6  , 123.   ,   3.92 ,   3.44 ,  18.9  ,\n",
       "          1.   ,   0.   ,   4.   ,   4.   ],\n",
       "       [ 18.1  ,   6.   , 225.   , 105.   ,   2.76 ,   3.46 ,  20.22 ,\n",
       "          1.   ,   0.   ,   3.   ,   1.   ],\n",
       "       [ 18.7  ,   8.   , 360.   , 175.   ,   3.15 ,   3.44 ,  17.02 ,\n",
       "          0.   ,   0.   ,   3.   ,   2.   ],\n",
       "       [ 19.2  ,   6.   , 167.6  , 123.   ,   3.92 ,   3.44 ,  18.3  ,\n",
       "          1.   ,   0.   ,   4.   ,   4.   ],\n",
       "       [ 19.2  ,   8.   , 400.   , 175.   ,   3.08 ,   3.845,  17.05 ,\n",
       "          0.   ,   0.   ,   3.   ,   2.   ],\n",
       "       [ 19.7  ,   6.   , 145.   , 175.   ,   3.62 ,   2.77 ,  15.5  ,\n",
       "          0.   ,   1.   ,   5.   ,   6.   ],\n",
       "       [ 21.   ,   6.   , 160.   , 110.   ,   3.9  ,   2.62 ,  16.46 ,\n",
       "          0.   ,   1.   ,   4.   ,   4.   ],\n",
       "       [ 21.   ,   6.   , 160.   , 110.   ,   3.9  ,   2.875,  17.02 ,\n",
       "          0.   ,   1.   ,   4.   ,   4.   ],\n",
       "       [ 21.4  ,   6.   , 258.   , 110.   ,   3.08 ,   3.215,  19.44 ,\n",
       "          1.   ,   0.   ,   3.   ,   1.   ],\n",
       "       [ 21.4  ,   4.   , 121.   , 109.   ,   4.11 ,   2.78 ,  18.6  ,\n",
       "          1.   ,   1.   ,   4.   ,   2.   ],\n",
       "       [ 21.5  ,   4.   , 120.1  ,  97.   ,   3.7  ,   2.465,  20.01 ,\n",
       "          1.   ,   0.   ,   3.   ,   1.   ],\n",
       "       [ 22.8  ,   4.   , 140.8  ,  95.   ,   3.92 ,   3.15 ,  22.9  ,\n",
       "          1.   ,   0.   ,   4.   ,   2.   ],\n",
       "       [ 22.8  ,   4.   , 108.   ,  93.   ,   3.85 ,   2.32 ,  18.61 ,\n",
       "          1.   ,   1.   ,   4.   ,   1.   ],\n",
       "       [ 24.4  ,   4.   , 146.7  ,  62.   ,   3.69 ,   3.19 ,  20.   ,\n",
       "          1.   ,   0.   ,   4.   ,   2.   ],\n",
       "       [ 26.   ,   4.   , 120.3  ,  91.   ,   4.43 ,   2.14 ,  16.7  ,\n",
       "          0.   ,   1.   ,   5.   ,   2.   ],\n",
       "       [ 27.3  ,   4.   ,  79.   ,  66.   ,   4.08 ,   1.935,  18.9  ,\n",
       "          1.   ,   1.   ,   4.   ,   1.   ],\n",
       "       [ 30.4  ,   4.   ,  95.1  , 113.   ,   3.77 ,   1.513,  16.9  ,\n",
       "          1.   ,   1.   ,   5.   ,   2.   ],\n",
       "       [ 30.4  ,   4.   ,  75.7  ,  52.   ,   4.93 ,   1.615,  18.52 ,\n",
       "          1.   ,   1.   ,   4.   ,   2.   ],\n",
       "       [ 32.4  ,   4.   ,  78.7  ,  66.   ,   4.08 ,   2.2  ,  19.47 ,\n",
       "          1.   ,   1.   ,   4.   ,   1.   ],\n",
       "       [ 33.9  ,   4.   ,  71.1  ,  65.   ,   4.22 ,   1.835,  19.9  ,\n",
       "          1.   ,   1.   ,   4.   ,   1.   ]])"
      ]
     },
     "execution_count": 19,
     "metadata": {},
     "output_type": "execute_result"
    }
   ],
   "source": [
    "mtcars[np.argsort(mtcars[:,0]),:]"
   ]
  },
  {
   "cell_type": "markdown",
   "metadata": {},
   "source": [
    "#### 5. Create a new array called `mtcars_std` that standardizes all the columns of `mtcars` (mean of 0, standard deviation of 1)."
   ]
  },
  {
   "cell_type": "code",
   "execution_count": 20,
   "metadata": {},
   "outputs": [],
   "source": [
    "mtcars_std = (mtcars-np.mean(mtcars,axis=0))/np.std(mtcars,axis=0)"
   ]
  },
  {
   "cell_type": "markdown",
   "metadata": {},
   "source": [
    "#### 6. Create a new array called `mtcars_norm` which normalizes all the columns of `mtcars` (values between 0 and 1)."
   ]
  },
  {
   "cell_type": "code",
   "execution_count": 21,
   "metadata": {},
   "outputs": [],
   "source": [
    "mtcars_norm = (mtcars-np.min(mtcars,axis=0))/(np.max(mtcars,axis=0)-np.min(mtcars,axis=0))"
   ]
  },
  {
   "cell_type": "markdown",
   "metadata": {},
   "source": [
    "#### 7. Determine the mean `mpg` of cars with different numbers of cylinders (i.e., what is the average `mpg` for cars with 4, 6, and 8 cylinders?). "
   ]
  },
  {
   "cell_type": "code",
   "execution_count": 22,
   "metadata": {},
   "outputs": [
    {
     "name": "stdout",
     "output_type": "stream",
     "text": [
      "4.0 26.66363636363636\n",
      "6.0 19.74285714285714\n",
      "8.0 15.1\n"
     ]
    }
   ],
   "source": [
    "ncyl_opt = np.unique(mtcars[:, 1])\n",
    "\n",
    "for ncyl in ncyl_opt:\n",
    "    ind = np.argwhere(mtcars[:,1]==ncyl)\n",
    "    group = mtcars[ind, 0]\n",
    "    print(ncyl, np.mean(group))"
   ]
  },
  {
   "cell_type": "markdown",
   "metadata": {},
   "source": [
    "#### 8. Turn what you did in \\#7 into a more general function: \n",
    "#### Write a function that performs a \"group_by\" on one column and returns the \"group mean\" of values in another column. You should pass to this function the array, the column you want to group by, and the column you want to calculate the mean of.\n",
    "#### Have the function return a list of (group, mean) tuples that look like this `L = [(group1, mean1), (group2, mean2), ...]`.\n",
    "#### Test this function by computing the mean `mpg` for cars with different numbers of cylinders. This test should return something like `[(4.0, 26.7), (6.0, 19.7), (8.0, 15.1)]` (Note that I rounded these)"
   ]
  },
  {
   "cell_type": "code",
   "execution_count": 23,
   "metadata": {},
   "outputs": [
    {
     "data": {
      "text/plain": [
       "[(4.0, 26.66363636363636), (6.0, 19.74285714285714), (8.0, 15.1)]"
      ]
     },
     "execution_count": 23,
     "metadata": {},
     "output_type": "execute_result"
    }
   ],
   "source": [
    "def group_mean(mtcars, col, by):\n",
    "    unique_vals = np.unique(mtcars[:, by])\n",
    "    unique_vals\n",
    "    \n",
    "    L = []\n",
    "    \n",
    "    for val in unique_vals:\n",
    "        tmp = mtcars[np.argwhere(mtcars[:,by]==val), col]\n",
    "        mu = np.mean(tmp)\n",
    "        L.append((val,mu))\n",
    "    \n",
    "    return(L)\n",
    "\n",
    "group_mean(mtcars, 0, 1)"
   ]
  },
  {
   "cell_type": "markdown",
   "metadata": {},
   "source": [
    "## Section 3 -- Matrix Multiplication\n",
    "\n",
    "#### A common programming problem involves writing a function to perform a matrix multiplication. Please review the procedure for multiplying two matrices if you have forgotten. In this section you'll perform matrix multiplications using the following matrices:"
   ]
  },
  {
   "cell_type": "code",
   "execution_count": 24,
   "metadata": {},
   "outputs": [
    {
     "name": "stdout",
     "output_type": "stream",
     "text": [
      "M:\n",
      "[[5 1 4]\n",
      " [4 4 2]\n",
      " [4 3 5]]\n",
      "\n",
      "N:\n",
      "[[1 1 5]\n",
      " [3 2 1]\n",
      " [2 2 1]]\n",
      "\n",
      "L:\n",
      "[[2 5 4 1]\n",
      " [4 1 3 4]\n",
      " [1 2 4 4]]\n"
     ]
    }
   ],
   "source": [
    "np.random.seed(0)\n",
    "M = np.random.randint(1,6,(3,3))\n",
    "N = np.random.randint(1,6,(3,3))\n",
    "L = np.random.randint(1,6,(3,4))\n",
    "print(\"M:\\n{}\\n\\nN:\\n{}\\n\\nL:\\n{}\".format(M, N, L))"
   ]
  },
  {
   "cell_type": "markdown",
   "metadata": {},
   "source": [
    "#### 1. Write a function called \"matrix_multiply\" that takes in two matrices and returns their matrix product. \n",
    "#### Test that the function works for `M` x `N` and `N` x `L`. For `L` x `M`, raise an appropriate error message to indicate the issue.\n",
    "#### For this part, do not use any built-in numpy functions designed for matrix multiplication.\n",
    "#### (Note: don't worry if your function changes the integers to floats. You can fix this if you like!)"
   ]
  },
  {
   "cell_type": "code",
   "execution_count": 25,
   "metadata": {},
   "outputs": [],
   "source": [
    "## function here\n",
    "\n",
    "def matrix_multiply(M, N):\n",
    "    if M.shape[1]!=N.shape[0]:\n",
    "        raise ValueError(\"Matrices are not compatible for multiplication\")\n",
    "    \n",
    "    L = np.zeros((M.shape[0], N.shape[1]))\n",
    "    \n",
    "    for irow in range(L.shape[0]):\n",
    "        for icol in range(L.shape[1]):\n",
    "            L[irow,icol] = np.sum(M[irow,:]*N[:,icol])\n",
    "    \n",
    "    return L"
   ]
  },
  {
   "cell_type": "code",
   "execution_count": 26,
   "metadata": {},
   "outputs": [
    {
     "name": "stdout",
     "output_type": "stream",
     "text": [
      "[[16. 15. 30.]\n",
      " [20. 16. 26.]\n",
      " [23. 20. 28.]]\n"
     ]
    },
    {
     "data": {
      "text/plain": [
       "array([[11., 16., 27., 25.],\n",
       "       [15., 19., 22., 15.],\n",
       "       [13., 14., 18., 14.]])"
      ]
     },
     "execution_count": 26,
     "metadata": {},
     "output_type": "execute_result"
    }
   ],
   "source": [
    "## tests here\n",
    "# matrix_multiply(L, N)\n",
    "print(matrix_multiply(M,N))\n",
    "matrix_multiply(N, L)"
   ]
  },
  {
   "cell_type": "markdown",
   "metadata": {},
   "source": [
    "#### 2. What function(s) already exist in numpy for performing matrix multiplication? Using one or more of these functions, check that your function is performing correctly. What type of error is raised when you try to multiply `L` by `N`?"
   ]
  },
  {
   "cell_type": "code",
   "execution_count": 27,
   "metadata": {},
   "outputs": [
    {
     "data": {
      "text/plain": [
       "array([[16, 15, 30],\n",
       "       [20, 16, 26],\n",
       "       [23, 20, 28]])"
      ]
     },
     "execution_count": 27,
     "metadata": {},
     "output_type": "execute_result"
    }
   ],
   "source": [
    "# Three different options\n",
    "M.dot(N)\n",
    "np.matmul(M,N)\n",
    "M@N\n",
    "\n",
    "# All of these raise a ValueError with an appropriate message\n",
    "# L.dot(N)\n",
    "# np.matmul(L,N)\n",
    "# L@N"
   ]
  },
  {
   "cell_type": "markdown",
   "metadata": {},
   "source": [
    "#### 3. How does the timing of your code compare to that of numpy's built in function(s)? Test using both `M`x`N` and the larger matrices, `M1` and `M2`, defined below."
   ]
  },
  {
   "cell_type": "code",
   "execution_count": 28,
   "metadata": {},
   "outputs": [],
   "source": [
    "M1 = np.random.randint(1,6,(200,300))\n",
    "M2 = np.random.randint(1,6,(300,500))"
   ]
  },
  {
   "cell_type": "code",
   "execution_count": 29,
   "metadata": {},
   "outputs": [
    {
     "name": "stdout",
     "output_type": "stream",
     "text": [
      "CPU times: user 968 ms, sys: 8.47 ms, total: 977 ms\n",
      "Wall time: 1.01 s\n",
      "CPU times: user 21.9 ms, sys: 153 µs, total: 22.1 ms\n",
      "Wall time: 22 ms\n",
      "CPU times: user 33.6 ms, sys: 346 µs, total: 33.9 ms\n",
      "Wall time: 35.4 ms\n"
     ]
    },
    {
     "data": {
      "text/plain": [
       "array([[2618, 2604, 2682, ..., 2710, 2782, 2720],\n",
       "       [2685, 2580, 2716, ..., 2754, 2770, 2758],\n",
       "       [2693, 2668, 2711, ..., 2725, 2701, 2734],\n",
       "       ...,\n",
       "       [2705, 2649, 2751, ..., 2790, 2750, 2739],\n",
       "       [2728, 2708, 2814, ..., 2789, 2857, 2809],\n",
       "       [2598, 2577, 2697, ..., 2695, 2771, 2704]])"
      ]
     },
     "execution_count": 29,
     "metadata": {},
     "output_type": "execute_result"
    }
   ],
   "source": [
    "%time matrix_multiply(M1,M2)\n",
    "%time M1.dot(M2)\n",
    "%time np.matmul(M1,M2)"
   ]
  },
  {
   "cell_type": "markdown",
   "metadata": {},
   "source": [
    "#### 4. Your function is likely slower than the numpy function. Use the appropriate \"magic command\" below to inspect which part(s) of your function are the slowest. Why are these parts slow compared to the  `numpy` functions?"
   ]
  },
  {
   "cell_type": "code",
   "execution_count": 30,
   "metadata": {},
   "outputs": [],
   "source": [
    "%load_ext line_profiler\n",
    "%lprun -f matrix_multiply matrix_multiply(M1,M2)"
   ]
  },
  {
   "cell_type": "markdown",
   "metadata": {},
   "source": [
    "The slowest part by far is the inner piece of the for loop, where I perform the algebra. I am here technically still using two numpy functions (the multiply ufunc and sum), but not ones designed for matrix multiplication. Because of this, my implementation is faster than those that might add in a third loop, but I didn't do the comparison.\n",
    "\n",
    "Python is interpreted line-by-line. Each time I execute that inner piece of the for loop, Python has to examine the data type of the arrays and look-up/dispatch the appropriate function for that data type. This process is repeated (in this case) 100,000 times. It would be even more than that if I had not used numpy in the inner loop. Performing this lookup more than once is unnecessary, because the types never change. The numpy functions for matrix multiplication are executed on compiled code, which results in less flexibility but also less overhead, making them faster."
   ]
  }
 ],
 "metadata": {
  "kernelspec": {
   "display_name": "Python 3",
   "language": "python",
   "name": "python3"
  },
  "language_info": {
   "codemirror_mode": {
    "name": "ipython",
    "version": 3
   },
   "file_extension": ".py",
   "mimetype": "text/x-python",
   "name": "python",
   "nbconvert_exporter": "python",
   "pygments_lexer": "ipython3",
   "version": "3.7.3"
  }
 },
 "nbformat": 4,
 "nbformat_minor": 2
}
